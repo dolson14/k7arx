{
 "cells": [
  {
   "cell_type": "code",
   "execution_count": 1,
   "metadata": {
    "collapsed": true
   },
   "outputs": [],
   "source": [
    "%matplotlib inline\n",
    "%load_ext version_information"
   ]
  },
  {
   "cell_type": "code",
   "execution_count": 2,
   "metadata": {
    "collapsed": false
   },
   "outputs": [
    {
     "data": {
      "application/json": {
       "Software versions": [
        {
         "module": "Python",
         "version": "3.5.2 64bit [GCC 4.2.1 Compatible Apple LLVM 4.2 (clang-425.0.28)]"
        },
        {
         "module": "IPython",
         "version": "5.1.0"
        },
        {
         "module": "OS",
         "version": "Darwin 15.6.0 x86_64 i386 64bit"
        },
        {
         "module": "matplotlib",
         "version": "1.5.3"
        },
        {
         "module": "numpy",
         "version": "1.11.2"
        },
        {
         "module": "pymongo",
         "version": "3.3.0"
        }
       ]
      },
      "text/html": [
       "<table><tr><th>Software</th><th>Version</th></tr><tr><td>Python</td><td>3.5.2 64bit [GCC 4.2.1 Compatible Apple LLVM 4.2 (clang-425.0.28)]</td></tr><tr><td>IPython</td><td>5.1.0</td></tr><tr><td>OS</td><td>Darwin 15.6.0 x86_64 i386 64bit</td></tr><tr><td>matplotlib</td><td>1.5.3</td></tr><tr><td>numpy</td><td>1.11.2</td></tr><tr><td>pymongo</td><td>3.3.0</td></tr><tr><td colspan='2'>Fri Nov 04 10:41:46 2016 MDT</td></tr></table>"
      ],
      "text/latex": [
       "\\begin{tabular}{|l|l|}\\hline\n",
       "{\\bf Software} & {\\bf Version} \\\\ \\hline\\hline\n",
       "Python & 3.5.2 64bit [GCC 4.2.1 Compatible Apple LLVM 4.2 (clang-425.0.28)] \\\\ \\hline\n",
       "IPython & 5.1.0 \\\\ \\hline\n",
       "OS & Darwin 15.6.0 x86\\_64 i386 64bit \\\\ \\hline\n",
       "matplotlib & 1.5.3 \\\\ \\hline\n",
       "numpy & 1.11.2 \\\\ \\hline\n",
       "pymongo & 3.3.0 \\\\ \\hline\n",
       "\\hline \\multicolumn{2}{|l|}{Fri Nov 04 10:41:46 2016 MDT} \\\\ \\hline\n",
       "\\end{tabular}\n"
      ],
      "text/plain": [
       "Software versions\n",
       "Python 3.5.2 64bit [GCC 4.2.1 Compatible Apple LLVM 4.2 (clang-425.0.28)]\n",
       "IPython 5.1.0\n",
       "OS Darwin 15.6.0 x86_64 i386 64bit\n",
       "matplotlib 1.5.3\n",
       "numpy 1.11.2\n",
       "pymongo 3.3.0\n",
       "Fri Nov 04 10:41:46 2016 MDT"
      ]
     },
     "execution_count": 2,
     "metadata": {},
     "output_type": "execute_result"
    }
   ],
   "source": [
    "# Standard Libraries\n",
    "import pickle\n",
    "\n",
    "# Third Party Libraries\n",
    "import bson\n",
    "import matplotlib.pyplot as plt\n",
    "import numpy as np\n",
    "import pymongo\n",
    "from tqdm import tqdm_notebook as tqdm\n",
    "\n",
    "%version_information matplotlib,numpy,pymongo"
   ]
  },
  {
   "cell_type": "code",
   "execution_count": 4,
   "metadata": {
    "collapsed": true
   },
   "outputs": [],
   "source": [
    "## Open Database\n",
    "client=pymongo.MongoClient(port=31416)\n",
    "db=client['electronics']\n",
    "parts=db['parts']\n",
    "modules=db['modules']"
   ]
  },
  {
   "cell_type": "code",
   "execution_count": 17,
   "metadata": {
    "collapsed": true
   },
   "outputs": [],
   "source": [
    "def add_part(name,n,digikey_pn=\"\",part_type=\"\",package=\"\",pins=-1,keywords={},verify=False):\n",
    "    new_part = {'id':name, 'count':n, 'digikey':[digikey_pn,], 'type':part_type, \n",
    "                    'package':package, 'pins':pins, 'keywords':keywords}\n",
    "    parts.insert_one(new_part)"
   ]
  },
  {
   "cell_type": "code",
   "execution_count": 18,
   "metadata": {
    "collapsed": false
   },
   "outputs": [],
   "source": [
    "\n",
    "add_part('LT1632',2,digikey_pn=\"LT1632CN8#PBF-ND\",part_type='opamp',package='PDIP',pins=8,keywords={'total supply':36,'GBW MHz':45,'channels':2,'R-R':True,'subtype':'precision'})"
   ]
  },
  {
   "cell_type": "code",
   "execution_count": 27,
   "metadata": {
    "collapsed": false
   },
   "outputs": [],
   "source": [
    "add_part('LT1638',2,digikey_pn=\"LT1638CN8#PBF-ND\",part_type='opamp',package='PDIP',pins=8,keywords={'total supply':44,'GBW MHz':1.2,'channels':2,'R-R':True,'subtype':'micropower'})"
   ]
  },
  {
   "cell_type": "code",
   "execution_count": 28,
   "metadata": {
    "collapsed": false
   },
   "outputs": [],
   "source": [
    "add_part('LT1498',2,digikey_pn=\"LT1498CN8#PBF-ND\",part_type='opamp',package='PDIP',pins=8,keywords={'total supply':36,'GBW MHz':10,'channels':2,'R-R':True,'subtype':'precision'})"
   ]
  },
  {
   "cell_type": "code",
   "execution_count": 29,
   "metadata": {
    "collapsed": false
   },
   "outputs": [],
   "source": [
    "add_part('LT1637',2,digikey_pn=\"LT1637CN8#PBF-ND\",part_type='opamp',package='PDIP',pins=8,keywords={'total supply':44,'GBW MHz':1.1,'channels':2,'R-R':True,'subtype':'micropower'})"
   ]
  },
  {
   "cell_type": "code",
   "execution_count": 30,
   "metadata": {
    "collapsed": true
   },
   "outputs": [],
   "source": [
    "add_part('LT1639',2,digikey_pn=\"LT1639CN8#PBF-ND\",part_type='opamp',package='PDIP',pins=14,keywords={'total supply':44,'GBW MHz':1.2,'channels':4,'R-R':True,'subtype':'micropower'})"
   ]
  },
  {
   "cell_type": "code",
   "execution_count": 31,
   "metadata": {
    "collapsed": false
   },
   "outputs": [],
   "source": [
    "add_part('MCP6002',20,digikey_pn=\"MCP6002-I/P-ND \",part_type='opamp',package='PDIP',pins=8,keywords={'total supply':7,'GBW MHz':1,'Iq mA':0.1,'channels':2,'R-R':True,'subtype':'low_power'})"
   ]
  },
  {
   "cell_type": "code",
   "execution_count": 32,
   "metadata": {
    "collapsed": false
   },
   "outputs": [],
   "source": [
    "add_part('LT1122',2,digikey_pn=\"LT1122ACN8#PBF-ND\",part_type='opamp',package='PDIP',pins=8,keywords={'total supply':20,'GBW MHz':14,'Iq mA':7.5,'channels':1,'R-R':False,'subtype':'JFET'})"
   ]
  },
  {
   "cell_type": "code",
   "execution_count": 33,
   "metadata": {
    "collapsed": true
   },
   "outputs": [],
   "source": [
    "add_part('LT1792',4,digikey_pn=\"LT1792ACN8#PBF-ND\",part_type='opamp',package='PDIP',pins=8,keywords={'supply':'dual','total supply':20,'GBW MHz':5.6,'Iq mA':4.2,'channels':1,'R-R':False,'subtype':'Precision'})"
   ]
  },
  {
   "cell_type": "code",
   "execution_count": 34,
   "metadata": {
    "collapsed": true
   },
   "outputs": [],
   "source": [
    "add_part('LT1037',4,digikey_pn=\"LT1037ACN8#PBF-ND\",part_type='opamp',package='PDIP',pins=8,keywords={'supply':'dual','max supply':22,'GBW MHz':60,'Iq mA':2.6,'channels':1,'R-R':False,'subtype':'Precision'})"
   ]
  },
  {
   "cell_type": "code",
   "execution_count": 35,
   "metadata": {
    "collapsed": true
   },
   "outputs": [],
   "source": [
    "add_part('LT1226',4,digikey_pn=\"LT1226CN8#PBF-ND\",part_type='opamp',package='PDIP',pins=8,keywords={'supply':'dual','max supply':18,'GBW MHz':1000,'Iq mA':7,'channels':1,'R-R':False,'subtype':'Low Noise'})"
   ]
  },
  {
   "cell_type": "code",
   "execution_count": null,
   "metadata": {
    "collapsed": true
   },
   "outputs": [],
   "source": []
  }
 ],
 "metadata": {
  "anaconda-cloud": {},
  "kernelspec": {
   "display_name": "Python [conda root]",
   "language": "python",
   "name": "conda-root-py"
  },
  "language_info": {
   "codemirror_mode": {
    "name": "ipython",
    "version": 3
   },
   "file_extension": ".py",
   "mimetype": "text/x-python",
   "name": "python",
   "nbconvert_exporter": "python",
   "pygments_lexer": "ipython3",
   "version": "3.5.2"
  }
 },
 "nbformat": 4,
 "nbformat_minor": 1
}
