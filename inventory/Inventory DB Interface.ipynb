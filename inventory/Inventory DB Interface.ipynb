{
 "cells": [
  {
   "cell_type": "code",
   "execution_count": 1,
   "metadata": {
    "collapsed": true
   },
   "outputs": [],
   "source": [
    "%matplotlib inline\n",
    "%load_ext version_information"
   ]
  },
  {
   "cell_type": "code",
   "execution_count": 2,
   "metadata": {
    "collapsed": false
   },
   "outputs": [
    {
     "data": {
      "application/json": {
       "Software versions": [
        {
         "module": "Python",
         "version": "3.5.2 64bit [GCC 4.2.1 Compatible Apple LLVM 4.2 (clang-425.0.28)]"
        },
        {
         "module": "IPython",
         "version": "5.1.0"
        },
        {
         "module": "OS",
         "version": "Darwin 15.6.0 x86_64 i386 64bit"
        },
        {
         "module": "matplotlib",
         "version": "1.5.3"
        },
        {
         "module": "numpy",
         "version": "1.11.2"
        },
        {
         "module": "pymongo",
         "version": "3.3.0"
        }
       ]
      },
      "text/html": [
       "<table><tr><th>Software</th><th>Version</th></tr><tr><td>Python</td><td>3.5.2 64bit [GCC 4.2.1 Compatible Apple LLVM 4.2 (clang-425.0.28)]</td></tr><tr><td>IPython</td><td>5.1.0</td></tr><tr><td>OS</td><td>Darwin 15.6.0 x86_64 i386 64bit</td></tr><tr><td>matplotlib</td><td>1.5.3</td></tr><tr><td>numpy</td><td>1.11.2</td></tr><tr><td>pymongo</td><td>3.3.0</td></tr><tr><td colspan='2'>Mon Nov 07 17:45:05 2016 MST</td></tr></table>"
      ],
      "text/latex": [
       "\\begin{tabular}{|l|l|}\\hline\n",
       "{\\bf Software} & {\\bf Version} \\\\ \\hline\\hline\n",
       "Python & 3.5.2 64bit [GCC 4.2.1 Compatible Apple LLVM 4.2 (clang-425.0.28)] \\\\ \\hline\n",
       "IPython & 5.1.0 \\\\ \\hline\n",
       "OS & Darwin 15.6.0 x86\\_64 i386 64bit \\\\ \\hline\n",
       "matplotlib & 1.5.3 \\\\ \\hline\n",
       "numpy & 1.11.2 \\\\ \\hline\n",
       "pymongo & 3.3.0 \\\\ \\hline\n",
       "\\hline \\multicolumn{2}{|l|}{Mon Nov 07 17:45:05 2016 MST} \\\\ \\hline\n",
       "\\end{tabular}\n"
      ],
      "text/plain": [
       "Software versions\n",
       "Python 3.5.2 64bit [GCC 4.2.1 Compatible Apple LLVM 4.2 (clang-425.0.28)]\n",
       "IPython 5.1.0\n",
       "OS Darwin 15.6.0 x86_64 i386 64bit\n",
       "matplotlib 1.5.3\n",
       "numpy 1.11.2\n",
       "pymongo 3.3.0\n",
       "Mon Nov 07 17:45:05 2016 MST"
      ]
     },
     "execution_count": 2,
     "metadata": {},
     "output_type": "execute_result"
    }
   ],
   "source": [
    "# Standard Libraries\n",
    "import pickle\n",
    "\n",
    "# Third Party Libraries\n",
    "import bson\n",
    "import matplotlib.pyplot as plt\n",
    "import numpy as np\n",
    "import pymongo\n",
    "from tqdm import tqdm_notebook as tqdm\n",
    "\n",
    "%version_information matplotlib,numpy,pymongo"
   ]
  },
  {
   "cell_type": "code",
   "execution_count": 3,
   "metadata": {
    "collapsed": true
   },
   "outputs": [],
   "source": [
    "## Open Database\n",
    "client=pymongo.MongoClient(port=31416)\n",
    "db=client['electronics']\n",
    "parts=db['parts']\n",
    "modules=db['modules']"
   ]
  },
  {
   "cell_type": "code",
   "execution_count": 4,
   "metadata": {
    "collapsed": true
   },
   "outputs": [],
   "source": [
    "def add_part(name,n,digikey_pn=\"\",part_type=\"\",package=\"\",pins=-1,keywords={},verify=False):\n",
    "    new_part = {'id':name, 'count':n, 'digikey':[digikey_pn,], 'type':part_type, \n",
    "                    'package':package, 'pins':pins, 'keywords':keywords}\n",
    "    parts.insert_one(new_part)"
   ]
  },
  {
   "cell_type": "code",
   "execution_count": 5,
   "metadata": {
    "collapsed": false
   },
   "outputs": [],
   "source": [
    "\"\"\"\n",
    "add_part('LT1632',2,digikey_pn=\"LT1632CN8#PBF-ND\",part_type='opamp',package='PDIP',pins=8,keywords={'total supply':36,'GBW MHz':45,'channels':2,'R-R':True,'subtype':'precision'})\n",
    "add_part('LT1638',2,digikey_pn=\"LT1638CN8#PBF-ND\",part_type='opamp',package='PDIP',pins=8,keywords={'total supply':44,'GBW MHz':1.2,'channels':2,'R-R':True,'subtype':'micropower'})\n",
    "add_part('LT1498',2,digikey_pn=\"LT1498CN8#PBF-ND\",part_type='opamp',package='PDIP',pins=8,keywords={'total supply':36,'GBW MHz':10,'channels':2,'R-R':True,'subtype':'precision'})\n",
    "add_part('LT1637',2,digikey_pn=\"LT1637CN8#PBF-ND\",part_type='opamp',package='PDIP',pins=8,keywords={'total supply':44,'GBW MHz':1.1,'channels':2,'R-R':True,'subtype':'micropower'})\n",
    "add_part('LT1639',2,digikey_pn=\"LT1639CN8#PBF-ND\",part_type='opamp',package='PDIP',pins=14,keywords={'total supply':44,'GBW MHz':1.2,'channels':4,'R-R':True,'subtype':'micropower'})\n",
    "add_part('MCP6002',20,digikey_pn=\"MCP6002-I/P-ND \",part_type='opamp',package='PDIP',pins=8,keywords={'total supply':7,'GBW MHz':1,'Iq mA':0.1,'channels':2,'R-R':True,'subtype':'low_power'})\n",
    "add_part('LT1122',2,digikey_pn=\"LT1122ACN8#PBF-ND\",part_type='opamp',package='PDIP',pins=8,keywords={'total supply':20,'GBW MHz':14,'Iq mA':7.5,'channels':1,'R-R':False,'subtype':'JFET'})\n",
    "add_part('LT1792',4,digikey_pn=\"LT1792ACN8#PBF-ND\",part_type='opamp',package='PDIP',pins=8,keywords={'supply':'dual','total supply':20,'GBW MHz':5.6,'Iq mA':4.2,'channels':1,'R-R':False,'subtype':'Precision'})\n",
    "add_part('LT1037',4,digikey_pn=\"LT1037ACN8#PBF-ND\",part_type='opamp',package='PDIP',pins=8,keywords={'supply':'dual','max supply':22,'GBW MHz':60,'Iq mA':2.6,'channels':1,'R-R':False,'subtype':'Precision'})\n",
    "add_part('LT1226',4,digikey_pn=\"LT1226CN8#PBF-ND\",part_type='opamp',package='PDIP',pins=8,keywords={'supply':'dual','max supply':18,'GBW MHz':1000,'Iq mA':7,'channels':1,'R-R':False,'subtype':'Low Noise'})\n",
    "\"\"\"\n",
    "\n",
    "None"
   ]
  },
  {
   "cell_type": "code",
   "execution_count": 6,
   "metadata": {
    "collapsed": false
   },
   "outputs": [],
   "source": [
    "\"\"\"\n",
    "add_part('27R0',6,digikey_pn=\"\",part_type='resistor',package='0805',pins=2,keywords={'precision':0.01,'power rating mW':125,'voltage rating V':150,'temp coefficient ppm/C':100})\n",
    "add_part('fb',10,digikey_pn=\"\",part_type='ferrite bead',package='0603',pins=2,keywords={'impedance':47,'current rating mA':500,'max resistance mOhms':100})\n",
    "add_part('49R9',144,digikey_pn=\"P49.9CCT-ND\",part_type='resistor',package='0805',pins=2,keywords={'precision':0.01,'power rating mW':125,'voltage rating V':150,'temp coefficient ppm/C':100})\n",
    "add_part('221R',46,digikey_pn=\"P221CCT-ND\",part_type='resistor',package='0805',pins=2,keywords={'precision':0.01,'power rating mW':125,'voltage rating V':150,'temp coefficient ppm/C':100})\n",
    "add_part('150R',10,digikey_pn=\"RMCF1/10150JRCT-ND\",part_type='resistor',package='0805',pins=2,keywords={'precision':0.05,'power rating mW':125,'voltage rating V':150,'temp coefficient ppm/C':200})\n",
    "add_part('180R',6,digikey_pn=\"RMCF1/10180JRCT-ND\",part_type='resistor',package='0805',pins=2,keywords={'precision':0.05,'power rating mW':125,'voltage rating V':150,'temp coefficient ppm/C':200})\n",
    "add_part('220R',8,digikey_pn=\"RMCF1/10220JRCT-ND\",part_type='resistor',package='0805',pins=2,keywords={'precision':0.05,'power rating mW':125,'voltage rating V':150,'temp coefficient ppm/C':200})\n",
    "add_part('270R',8,digikey_pn=\"RMCF1/10270JRCT-ND\",part_type='resistor',package='0805',pins=2,keywords={'precision':0.05,'power rating mW':125,'voltage rating V':150,'temp coefficient ppm/C':200})\n",
    "add_part('330R',10,digikey_pn=\"RMCF1/10330JRCT-ND\",part_type='resistor',package='0805',pins=2,keywords={'precision':0.05,'power rating mW':125,'voltage rating V':150,'temp coefficient ppm/C':200})\n",
    "add_part('499R',15,digikey_pn=\"P499CCT-ND\",part_type='resistor',package='0805',pins=2,keywords={'precision':0.01,'power rating mW':125,'voltage rating V':150,'temp coefficient ppm/C':100})\n",
    "add_part('1k00R',59,digikey_pn=\"P1.00KCCT-ND\",part_type='resistor',package='0805',pins=2,keywords={'precision':0.01,'power rating mW':125,'voltage rating V':150,'temp coefficient ppm/C':100})\n",
    "add_part('1k0R',10,digikey_pn=\"RMCF1/101KJRCT-ND\",part_type='resistor',package='0805',pins=2,keywords={'precision':0.05,'power rating mW':125,'voltage rating V':150,'temp coefficient ppm/C':200})\n",
    "add_part('4k75R',43,digikey_pn=\"P4.75KCCT-ND\",part_type='resistor',package='0805',pins=2,keywords={'precision':0.01,'power rating mW':125,'voltage rating V':150,'temp coefficient ppm/C':100})\n",
    "add_part('10kR',10,digikey_pn=\"RMCF1/810KJRCT-ND\",part_type='resistor',package='1206',pins=2,keywords={'precision':0.05,'power rating mW':250,'voltage rating V':200,'temp coefficient ppm/C':200})\n",
    "add_part('47kR',44,digikey_pn=\"RMCF1/1047KJRCT-ND\",part_type='resistor',package='0805',pins=2,keywords={'precision':0.05,'power rating mW':125,'voltage rating V':150,'temp coefficient ppm/C':200})\n",
    "add_part('47k5R',27,digikey_pn=\"311-47.5KCRCT-ND\",part_type='resistor',package='0805',pins=2,keywords={'precision':0.01,'power rating mW':125,'voltage rating V':150,'temp coefficient ppm/C':100})\n",
    "add_part('49k9R',45,digikey_pn=\"P49.9KCCT-ND\",part_type='resistor',package='0805',pins=2,keywords={'precision':0.01,'power rating mW':125,'voltage rating V':150,'temp coefficient ppm/C':100})\n",
    "add_part('100kR',66,digikey_pn=\"P100KCCT-ND\",part_type='resistor',package='0805',pins=2,keywords={'precision':0.01,'power rating mW':125,'voltage rating V':150,'temp coefficient ppm/C':100})\n",
    "add_part('100kR',9,digikey_pn=\"\",part_type='resistor',package='1206',pins=2,keywords={'precision':0.01,'power rating mW':250,'voltage rating V':200,'temp coefficient ppm/C':100})\n",
    "add_part('499kR',14,digikey_pn=\"P499KCCT-ND\",part_type='resistor',package='0805',pins=2,keywords={'precision':0.01,'power rating mW':125,'voltage rating V':150,'temp coefficient ppm/C':100})\n",
    "add_part('1M00R',55,digikey_pn=\"P1.00MCCT-ND\",part_type='resistor',package='0805',pins=2,keywords={'precision':0.01,'power rating mW':125,'voltage rating V':150,'temp coefficient ppm/C':100})\n",
    "add_part('1M80R',37,digikey_pn=\"P1.80MCCT-ND\",part_type='resistor',package='0805',pins=2,keywords={'precision':0.01,'power rating mW':125,'voltage rating V':150,'temp coefficient ppm/C':100})\n",
    "\"\"\"\n",
    "\n",
    "None"
   ]
  },
  {
   "cell_type": "code",
   "execution_count": 7,
   "metadata": {
    "collapsed": false
   },
   "outputs": [],
   "source": [
    "\"\"\"\n",
    "add_part('010C',69,digikey_pn=\"PCC010CNCT-ND\",part_type='capacitor',package='0805',pins=2,keywords={'precision':0.25,'voltage rating V':50,'temp coefficient':['C0G','NP0']})\n",
    "add_part('470C',2,digikey_pn=\"490-1419-1-ND\",part_type='capacitor',package='0603',pins=2,keywords={'precision':0.05,'voltage rating V':50,'temp coefficient':['C0G','NP0']})\n",
    "add_part('470C',10,digikey_pn=\"BC1232TR-ND\",part_type='capacitor',package='0603',pins=2,keywords={'precision':0.05,'voltage rating V':50,'temp coefficient':['C0G','NP0']})\n",
    "add_part('100C',32,digikey_pn=\"PCC100CNCT-ND\",part_type='capacitor',package='0805',pins=2,keywords={'precision':0.05,'voltage rating V':50,'temp coefficient':['C0G','NP0']})\n",
    "add_part('102C',45,digikey_pn=\"PCC102BNCT-ND\",part_type='capacitor',package='0805',pins=2,keywords={'precision':0.10,'voltage rating V':50,'temp coefficient':'X7R'})\n",
    "add_part('102C',7,digikey_pn=\"\",part_type='capacitor',package='0603',pins=2,keywords={'precision':0.10,'voltage rating V':25,'temp coefficient':'Y5V'})\n",
    "add_part('102C',25,digikey_pn=\"1276-1050-1-ND\",part_type='capacitor',package='1206',pins=2,keywords={'precision':0.10,'voltage rating V':50,'temp coefficient':'X7R'})\n",
    "add_part('102C',8,digikey_pn=\"478-4737-1-ND\",part_type='capacitor',package='1825',pins=2,keywords={'precision':0.10,'voltage rating V':4000,'temp coefficient':'X7R'})\n",
    "add_part('103C',34,digikey_pn=\"PCC103BNCT-ND\",part_type='capacitor',package='0805',pins=2,keywords={'precision':0.10,'voltage rating V':50,'temp coefficient':'X7R'})\n",
    "add_part('103C',34,digikey_pn=\"720-1531-1-ND\",part_type='capacitor',package='0603',pins=2,keywords={'precision':0.10,'voltage rating V':50,'temp coefficient':'X7R'})\n",
    "add_part('103C',25,digikey_pn=\"1276-1035-1-ND\",part_type='capacitor',package='1206',pins=2,keywords={'precision':0.10,'voltage rating V':50,'temp coefficient':'X7R'})\n",
    "add_part('104C',74,digikey_pn=\"PCC1828CT-ND\",part_type='capacitor',package='0805',pins=2,keywords={'precision':0.10,'voltage rating V':25,'temp coefficient':'X7R'})\n",
    "add_part('104C',20,digikey_pn=\"587-1245-1-ND\",part_type='capacitor',package='0603',pins=2,keywords={'precision':0.10,'voltage rating V':25,'temp coefficient':'X5R'})\n",
    "add_part('104C',22,digikey_pn=\"1276-1017-1-ND\",part_type='capacitor',package='1206',pins=2,keywords={'precision':0.10,'voltage rating V':50,'temp coefficient':'X7R'})\n",
    "add_part('105C',29,digikey_pn=\"PCC2319CT-ND\",part_type='capacitor',package='0805',pins=2,keywords={'precision':0.10,'voltage rating V':25,'temp coefficient':'X5R'})\n",
    "add_part('105C',16,digikey_pn=\"587-1248-1-ND\",part_type='capacitor',package='0603',pins=2,keywords={'precision':0.10,'voltage rating V':25,'temp coefficient':'X5R'})\n",
    "add_part('475C',26,digikey_pn=\"490-3335-6-ND\",part_type='capacitor',package='0805',pins=2,keywords={'precision':0.10,'voltage rating V':25,'temp coefficient':'X5R'})\n",
    "add_part('475C',8,digikey_pn=\"1276-2789-1-ND\",part_type='capacitor',package='1206',pins=2,keywords={'precision':0.10,'voltage rating V':50,'temp coefficient':'X7R'})\n",
    "add_part('475C',12,digikey_pn=\"311-1455-1-ND\",part_type='capacitor',package='0603',pins=2,keywords={'precision':0.10,'voltage rating V':10,'temp coefficient':'X5R'})\n",
    "add_part('106C',13,digikey_pn=\"PCC2403CT-ND\",part_type='capacitor',package='0805',pins=2,keywords={'precision':0.10,'voltage rating V':10,'temp coefficient':'X5R'})\n",
    "add_part('106C',23,digikey_pn=\"399-3830-1-ND\",part_type='capacitor',package='1411',pins=2,keywords={'precision':0.10,'voltage rating V':16,'ESR mOhm':800,'type':'tantalum'})\n",
    "add_part('106C',4,digikey_pn=\"587-1337-1-ND\",part_type='capacitor',package='1206',pins=2,keywords={'precision':0.10,'voltage rating V':25,'temp coefficient':'X5R'})\n",
    "add_part('106C',9,digikey_pn=\"311-1460-1-ND\",part_type='capacitor',package='0805',pins=2,keywords={'precision':0.10,'voltage rating V':10,'temp coefficient':'X5R'})\n",
    "add_part('227C',4,digikey_pn=\"1276-3375-1-ND\",part_type='capacitor',package='1210',pins=2,keywords={'precision':0.20,'voltage rating V':6.3,'temp coefficient':'X5R'})\n",
    "\"\"\"\n",
    "\n",
    "None"
   ]
  },
  {
   "cell_type": "code",
   "execution_count": 8,
   "metadata": {
    "collapsed": false
   },
   "outputs": [],
   "source": [
    "\"\"\"\n",
    "add_part('fb',5,digikey_pn=\"240-2557-1-ND\",part_type='ferrite bead',package='0603',pins=2,keywords={'impedance':47,'current rating mA':500,'max resistance mOhms':100})\n",
    "add_part('fb',10,digikey_pn=\"ACML-0603-190-TCT-ND\",part_type='ferrite bead',package='0603',pins=2,keywords={'impedance':19,'current rating mA':1000,'max resistance mOhms':50})\n",
    "add_part('150R',18,digikey_pn=\"742C083151JPCT-ND\",part_type='resistor',package='4x0603',pins=8,keywords={'precision':0.05,'power rating mW':62.5,'voltage rating V':150,'temp coefficient ppm/C':200})\n",
    "add_part('0R0',18,digikey_pn=\"P0.0ACT-ND\",part_type='resistor',package='0805',pins=2,keywords={'precision':'none','power rating mW':125,'voltage rating V':150,'temp coefficient ppm/C':'none'})\n",
    "\"\"\"\n",
    "\n",
    "None"
   ]
  },
  {
   "cell_type": "code",
   "execution_count": null,
   "metadata": {
    "collapsed": true
   },
   "outputs": [],
   "source": []
  }
 ],
 "metadata": {
  "anaconda-cloud": {},
  "kernelspec": {
   "display_name": "Python [conda root]",
   "language": "python",
   "name": "conda-root-py"
  },
  "language_info": {
   "codemirror_mode": {
    "name": "ipython",
    "version": 3
   },
   "file_extension": ".py",
   "mimetype": "text/x-python",
   "name": "python",
   "nbconvert_exporter": "python",
   "pygments_lexer": "ipython3",
   "version": "3.5.2"
  }
 },
 "nbformat": 4,
 "nbformat_minor": 1
}
