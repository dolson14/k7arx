{
 "cells": [
  {
   "cell_type": "markdown",
   "metadata": {},
   "source": [
    "# Configuring System Options over PyVISA"
   ]
  },
  {
   "cell_type": "code",
   "execution_count": 2,
   "metadata": {
    "collapsed": false
   },
   "outputs": [
    {
     "name": "stdout",
     "output_type": "stream",
     "text": [
      "('ASRL1::INSTR', 'ASRL14::INSTR')\n"
     ]
    }
   ],
   "source": [
    "%matplotlib inline\n",
    "import numpy as np\n",
    "import matplotlib as mpl\n",
    "import matplotlib.pyplot as plt\n",
    "import time\n",
    "\n",
    "import visa\n",
    "nirm = visa.ResourceManager()\n",
    "print(nirm.list_resources())\n",
    "\n",
    "IPA = {'power supply':'192.168.14.40', \n",
    "       'oscilloscope':'192.168.14.41',\n",
    "       'signal generator':'192.168.14.42',\n",
    "       'spectrum analyzer':'192.168.14.43'}"
   ]
  },
  {
   "cell_type": "code",
   "execution_count": 9,
   "metadata": {
    "collapsed": false
   },
   "outputs": [
    {
     "name": "stdout",
     "output_type": "stream",
     "text": [
      "Model : DSA815\n",
      "Serial Number : DSA8A165152107\n",
      "\n",
      "Version of Main Board : 00.08\n",
      "Version of Radio Frequency Board FPGA : 00.05\n",
      "Version of Digital Board FPGA : 00.04\n",
      "Version of Firmware : 00.01.09\n",
      "Version of Boot : 00.01.04\n",
      "\n",
      "\n",
      "Serial N0.|Option |Option Type |Active \n",
      "1|0001|Offical|Y\n",
      "2|0002|Trial|Y\n",
      "3|0003|None|N\n",
      "4|0004|Trial|Y\n",
      "5|0005|Trial|Y\n",
      "\n",
      "\n"
     ]
    }
   ],
   "source": [
    "spec = nirm.open_resource(\"TCPIP::192.168.14.43::inst0::INSTR\")\n",
    "print(spec.ask(':SYST:CONF:INF?'))\n",
    "print(spec.ask(':SYST:OPT?'))"
   ]
  },
  {
   "cell_type": "code",
   "execution_count": 12,
   "metadata": {
    "collapsed": false
   },
   "outputs": [
    {
     "data": {
      "text/plain": [
       "(41, <StatusCode.success: 0>)"
      ]
     },
     "execution_count": 12,
     "metadata": {},
     "output_type": "execute_result"
    }
   ],
   "source": [
    "spec.write(':SYST:LKEY FA74GJQKLAEP6SRLFA3LGH58UCQA')"
   ]
  },
  {
   "cell_type": "code",
   "execution_count": 14,
   "metadata": {
    "collapsed": false
   },
   "outputs": [
    {
     "name": "stdout",
     "output_type": "stream",
     "text": [
      "7A4pXf29ccZLdEJV05MWvKqbcSwZ\n",
      "\n",
      "\n"
     ]
    }
   ],
   "source": [
    "print(spec.ask(':SYST:LKEY? 0001'))"
   ]
  },
  {
   "cell_type": "code",
   "execution_count": null,
   "metadata": {
    "collapsed": true
   },
   "outputs": [],
   "source": []
  }
 ],
 "metadata": {
  "kernelspec": {
   "display_name": "Python 3",
   "language": "python",
   "name": "python3"
  },
  "language_info": {
   "codemirror_mode": {
    "name": "ipython",
    "version": 3
   },
   "file_extension": ".py",
   "mimetype": "text/x-python",
   "name": "python",
   "nbconvert_exporter": "python",
   "pygments_lexer": "ipython3",
   "version": "3.6.1"
  }
 },
 "nbformat": 4,
 "nbformat_minor": 2
}
